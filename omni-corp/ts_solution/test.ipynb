{
 "cells": [
  {
   "cell_type": "code",
   "execution_count": 1,
   "id": "a5844fc1-824b-4f3c-9376-3c15719924d4",
   "metadata": {},
   "outputs": [
    {
     "ename": "SyntaxError",
     "evalue": "invalid syntax (2774308910.py, line 5)",
     "output_type": "error",
     "traceback": [
      "\u001b[1;36m  Cell \u001b[1;32mIn[1], line 5\u001b[1;36m\u001b[0m\n\u001b[1;33m    from ../Core/CustomStructure import *\u001b[0m\n\u001b[1;37m           ^\u001b[0m\n\u001b[1;31mSyntaxError\u001b[0m\u001b[1;31m:\u001b[0m invalid syntax\n"
     ]
    }
   ],
   "source": [
    "import os\n",
    "from Analysis import *\n",
    "from APIWarp import *\n",
    "import Data\n",
    "import json\n",
    "import tree_sitter\n",
    "from pygments.lexers import guess_lexer\n",
    "from pygments.lexers import get_lexer_for_filename"
   ]
  },
  {
   "cell_type": "code",
   "execution_count": 3,
   "id": "c4c7a0b9-9b85-4aac-986e-a04136b391cc",
   "metadata": {},
   "outputs": [],
   "source": [
    "source_file1 = \"C:/Code/OmniCorp/data_10G/1165-v3.0.1/benchmark/partial_tweets/tweet.h\""
   ]
  },
  {
   "cell_type": "code",
   "execution_count": 4,
   "id": "4328fa05-37ed-4ec6-8629-a18da5b95776",
   "metadata": {},
   "outputs": [],
   "source": [
    "config_cpp = 'cpp'\n",
    "test_cpp = Data.NormalFile(source_file1 ,config_cpp)"
   ]
  },
  {
   "cell_type": "code",
   "execution_count": 7,
   "id": "3c868ee8-227d-4cca-b102-cb4aa7cfb487",
   "metadata": {},
   "outputs": [
    {
     "data": {
      "text/plain": [
       "<Node type=translation_unit, start_point=(0, 0), end_point=(61, 0)>"
      ]
     },
     "execution_count": 7,
     "metadata": {},
     "output_type": "execute_result"
    }
   ],
   "source": [
    "test_cpp.root_node"
   ]
  },
  {
   "cell_type": "code",
   "execution_count": 2,
   "id": "041704da-2206-4de3-b20f-64a48a6de519",
   "metadata": {},
   "outputs": [],
   "source": [
    "target_project = project_dir = \"D:/work/selector-test/j40-main\""
   ]
  },
  {
   "cell_type": "code",
   "execution_count": 3,
   "id": "01f7edb0",
   "metadata": {},
   "outputs": [
    {
     "name": "stdout",
     "output_type": "stream",
     "text": [
      "[Project] initial gets 5 files\n",
      "[Project] initial gets 2 libfuzzer\n",
      "[Projcet] analyze_all_libfuzzer analyzing D:/work/selector-test/j40-main\\extra\\j40-fuzz.c...\n",
      "[analyze_one_libfuzzer] D:/work/selector-test/j40-main\\extra\\j40-fuzz.c first gets 1 related files\n",
      "same_floder_list []\n",
      "[analyze_one_libfuzzer] D:/work/selector-test/j40-main\\extra\\j40-fuzz.c finally gets 1 related files\n"
     ]
    },
    {
     "name": "stderr",
     "output_type": "stream",
     "text": [
      "...j40-fuzz.c Processing related files:: 100%|██████████| 1/1 [00:00<00:00, 11.99it/s]\n"
     ]
    },
    {
     "name": "stdout",
     "output_type": "stream",
     "text": [
      "[analyze_one_libfuzzer] get 13 classes\n"
     ]
    },
    {
     "name": "stderr",
     "output_type": "stream",
     "text": [
      "...j40-fuzz.c Process funcs:: 100%|██████████| 197/197 [00:00<00:00, 444.09it/s]\n",
      "...j40-fuzz.c Classify funcs:: 100%|██████████| 197/197 [00:00<?, ?it/s]\n"
     ]
    },
    {
     "name": "stdout",
     "output_type": "stream",
     "text": [
      "[analyze_one_libfuzzer] D:/work/selector-test/j40-main\\extra\\j40-fuzz.c gets 6 label 1 funs, 191 lable 0 funcs\n",
      "[Projcet] analyze_all_libfuzzer analyzing D:/work/selector-test/j40-main\\fuzz\\j40-fuzz.c...\n",
      "[analyze_one_libfuzzer] D:/work/selector-test/j40-main\\fuzz\\j40-fuzz.c first gets 1 related files\n",
      "same_floder_list []\n",
      "[analyze_one_libfuzzer] D:/work/selector-test/j40-main\\fuzz\\j40-fuzz.c finally gets 1 related files\n"
     ]
    },
    {
     "name": "stderr",
     "output_type": "stream",
     "text": [
      "...j40-fuzz.c Processing related files:: 100%|██████████| 1/1 [00:00<?, ?it/s]\n"
     ]
    },
    {
     "name": "stdout",
     "output_type": "stream",
     "text": [
      "[analyze_one_libfuzzer] get 13 classes\n"
     ]
    },
    {
     "name": "stderr",
     "output_type": "stream",
     "text": [
      "...j40-fuzz.c Process funcs:: 100%|██████████| 197/197 [00:00<?, ?it/s]\n",
      "...j40-fuzz.c Classify funcs:: 100%|██████████| 197/197 [00:00<00:00, 148317.70it/s]"
     ]
    },
    {
     "name": "stdout",
     "output_type": "stream",
     "text": [
      "[analyze_one_libfuzzer] D:/work/selector-test/j40-main\\fuzz\\j40-fuzz.c gets 7 label 1 funs, 190 lable 0 funcs\n",
      "[<Data.DriverFile object at 0x0000017ED71B6B40>, <Data.DriverFile object at 0x0000017ED714F8C0>]\n"
     ]
    },
    {
     "name": "stderr",
     "output_type": "stream",
     "text": [
      "\n"
     ]
    }
   ],
   "source": [
    "test_project = Data.CXXProject(target_project)\n",
    "test_project.analyze_all_libfuzzer()\n",
    "\n",
    "print(test_project.driver_list)\n"
   ]
  },
  {
   "cell_type": "code",
   "execution_count": 4,
   "id": "ecb97d4e",
   "metadata": {},
   "outputs": [
    {
     "name": "stdout",
     "output_type": "stream",
     "text": [
      "j40_free:[]\n",
      "j40_row_u8x4:[]\n",
      "j40_frame_pixels_u8x4:[]\n",
      "j40_current_frame:[]\n",
      "j40_next_frame:[]\n",
      "j40_output_format:[]\n",
      "j40_from_memory:[]\n",
      "[struct b'j40__inner', struct b'j40__group_info', struct b'j40__lf_group_st', struct b'reloc', struct b'j40__frame_st', struct b'how', struct b'j40__dct_params', struct b'j40__image_st', struct b'j40__buffer_st', struct b'j40__container_st', struct b'j40__source_st', struct b'j40__limits', struct b'j40__bits_st']\n",
      "[struct b'j40__inner', struct b'j40__group_info', struct b'j40__lf_group_st', struct b'reloc', struct b'j40__frame_st', struct b'how', struct b'j40__dct_params', struct b'j40__image_st', struct b'j40__buffer_st', struct b'j40__container_st', struct b'j40__source_st', struct b'j40__limits', struct b'j40__bits_st']\n"
     ]
    }
   ],
   "source": [
    "all_funcs = test_project.all_funcs[:]\n",
    "all_funcs = list(set(all_funcs))\n",
    "for one_func in test_project.all_funcs:\n",
    "    if one_func.is_driver_func:\n",
    "        print(one_func)\n",
    "for one_driver in test_project.driver_list:\n",
    "    print(one_driver.label0_class)"
   ]
  }
 ],
 "metadata": {
  "kernelspec": {
   "display_name": "Python 3 (ipykernel)",
   "language": "python",
   "name": "python3"
  },
  "language_info": {
   "codemirror_mode": {
    "name": "ipython",
    "version": 3
   },
   "file_extension": ".py",
   "mimetype": "text/x-python",
   "name": "python",
   "nbconvert_exporter": "python",
   "pygments_lexer": "ipython3",
   "version": "3.12.2"
  }
 },
 "nbformat": 4,
 "nbformat_minor": 5
}
