{
 "cells": [
  {
   "cell_type": "code",
   "execution_count": 1,
   "metadata": {},
   "outputs": [],
   "source": [
    "import json\n"
   ]
  },
  {
   "cell_type": "code",
   "execution_count": 4,
   "metadata": {},
   "outputs": [],
   "source": [
    "old_file_path = \"D:/work/selector-test/origin_data.log\"\n",
    "with open(old_file_path,'r') as f:\n",
    "    old_data = json.load(f)"
   ]
  },
  {
   "cell_type": "code",
   "execution_count": 5,
   "metadata": {},
   "outputs": [],
   "source": [
    "new_file_path = \"D:/work/selector-test/origin_data1.log\"\n",
    "with open(new_file_path,'r') as f:\n",
    "    new_data = json.load(f)"
   ]
  },
  {
   "cell_type": "code",
   "execution_count": 7,
   "metadata": {},
   "outputs": [],
   "source": [
    "train_data = {}\n",
    "for question in new_data:\n",
    "    if question in old_data:\n",
    "        continue\n",
    "    if len(new_data[question].keys()) < 2:\n",
    "        continue\n",
    "    train_data[question] = new_data[question]"
   ]
  },
  {
   "cell_type": "code",
   "execution_count": 16,
   "metadata": {},
   "outputs": [
    {
     "name": "stdout",
     "output_type": "stream",
     "text": [
      "69574\n"
     ]
    }
   ],
   "source": [
    "print(len(train_data.keys()))"
   ]
  },
  {
   "cell_type": "code",
   "execution_count": 15,
   "metadata": {},
   "outputs": [],
   "source": [
    "save_path = \"D:/work/selector-test/train_data1.log\"\n",
    "with open(save_path, \"w\") as f:\n",
    "    json.dump(train_data, f)"
   ]
  }
 ],
 "metadata": {
  "kernelspec": {
   "display_name": "ts",
   "language": "python",
   "name": "python3"
  },
  "language_info": {
   "codemirror_mode": {
    "name": "ipython",
    "version": 3
   },
   "file_extension": ".py",
   "mimetype": "text/x-python",
   "name": "python",
   "nbconvert_exporter": "python",
   "pygments_lexer": "ipython3",
   "version": "3.12.2"
  }
 },
 "nbformat": 4,
 "nbformat_minor": 2
}
