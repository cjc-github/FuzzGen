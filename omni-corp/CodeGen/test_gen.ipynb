{
 "cells": [
  {
   "cell_type": "markdown",
   "metadata": {},
   "source": [
    "加载运行环境"
   ]
  },
  {
   "cell_type": "code",
   "execution_count": 1,
   "metadata": {},
   "outputs": [
    {
     "name": "stderr",
     "output_type": "stream",
     "text": [
      "None of PyTorch, TensorFlow >= 2.0, or Flax have been found. Models won't be available and only tokenizers, configuration and file/data utilities can be used.\n"
     ]
    }
   ],
   "source": [
    "import os\n",
    "from Data import *\n",
    "from transformers import AutoTokenizer"
   ]
  },
  {
   "cell_type": "markdown",
   "metadata": {},
   "source": [
    "运行代码"
   ]
  },
  {
   "cell_type": "code",
   "execution_count": null,
   "metadata": {},
   "outputs": [],
   "source": [
    "project_dir = \"C:/Code/exiv2\""
   ]
  },
  {
   "cell_type": "code",
   "execution_count": 4,
   "metadata": {},
   "outputs": [],
   "source": [
    "project_dir = \"D:/work/selector-test/test/j40-main\""
   ]
  },
  {
   "cell_type": "code",
   "execution_count": null,
   "metadata": {},
   "outputs": [],
   "source": [
    "project_dir = \"D:/work/selector-test/test/PDFGen-master\""
   ]
  },
  {
   "cell_type": "code",
   "execution_count": null,
   "metadata": {},
   "outputs": [],
   "source": [
    "project_dir = \"C:/Code/qoi\""
   ]
  },
  {
   "cell_type": "code",
   "execution_count": null,
   "metadata": {},
   "outputs": [],
   "source": [
    "project_dir = \"D:/tmp_fuzzer_data/qoi-master\""
   ]
  },
  {
   "cell_type": "code",
   "execution_count": 5,
   "metadata": {},
   "outputs": [
    {
     "name": "stdout",
     "output_type": "stream",
     "text": [
      "[Project] initial gets 2 files\n"
     ]
    },
    {
     "name": "stderr",
     "output_type": "stream",
     "text": [
      "Processing Files...: 100%|██████████| 2/2 [00:00<00:00,  2.38it/s]\n",
      "Processing Functions:: 100%|██████████| 199/199 [00:00<00:00, 658.73it/s]\n"
     ]
    }
   ],
   "source": [
    "test_project = CXXProject(project_dir)\n",
    "test_project.process()\n"
   ]
  },
  {
   "cell_type": "code",
   "execution_count": 7,
   "metadata": {},
   "outputs": [
    {
     "name": "stdout",
     "output_type": "stream",
     "text": [
      "yes\n"
     ]
    }
   ],
   "source": [
    "for one_func in test_project.all_funcs:\n",
    "    if one_func.name == b\"j40_output_format\":\n",
    "        print('yes')\n",
    "    # func_dict = one_func.gen_func_dict()\n",
    "    # print(one_func.name)\n",
    "    # print(one_func.call_list)\n",
    "    # print(one_func.class_list)\n",
    "    # print(\"=\"*20)\n",
    "    # if one_func.name == b'qoi_decode':\n",
    "    #     for key in func_dict:\n",
    "    #         print(key,'-',func_dict[key])"
   ]
  },
  {
   "cell_type": "code",
   "execution_count": null,
   "metadata": {},
   "outputs": [],
   "source": [
    "test_project.get_related_class()"
   ]
  },
  {
   "cell_type": "code",
   "execution_count": null,
   "metadata": {},
   "outputs": [],
   "source": [
    "target_class_name = b'Task'\n",
    "for cs_name in test_project.all_class_dict:\n",
    "    one_class = test_project.all_class_dict[cs_name]\n",
    "    if cs_name == target_class_name:\n",
    "        one_class.func_name_list = []\n",
    "        print(cs_name)\n",
    "        one_class.get_all_funcs()\n",
    "        body = one_class.gen_dict()['body']\n",
    "        body = body.replace('\\n\\n', '\\n')\n",
    "        # print(body)\n",
    "        print(one_class.func_name_list)\n",
    "        # show_all_node(one_class.node)\n",
    "        # ele_list = iterate_tree(one_class.node)\n",
    "        # for node in ele_list:\n",
    "        #     if node.type == 'function_definition':\n",
    "        #         print(node.text)\n",
    "\n",
    "        # print(one_class.related_class_set)\n",
    "        # if len(one_class.related_class_set) > 0:\n",
    "        #     print(one_class.gen_dict()['body'])\n",
    "        #     for tmp_cs_name in one_class.related_class_set:\n",
    "        #         print(test_project.all_class_dict[tmp_cs_name].gen_dict()['body'])"
   ]
  },
  {
   "cell_type": "code",
   "execution_count": null,
   "metadata": {},
   "outputs": [],
   "source": [
    "for one_func in test_project.all_funcs:\n",
    "    if target_class_name in one_func.class_list:\n",
    "        print(one_func.name)\n",
    "        print(one_func.body)"
   ]
  },
  {
   "cell_type": "code",
   "execution_count": null,
   "metadata": {},
   "outputs": [],
   "source": [
    "one_list = []\n",
    "print(str(one_list))"
   ]
  },
  {
   "cell_type": "code",
   "execution_count": null,
   "metadata": {},
   "outputs": [],
   "source": [
    "for file_name in test_project.all_file_obj_dict:\n",
    "    # print(one_file,test_project.all_file_obj_dict[one_file]\n",
    "    for one_func in test_project.all_file_obj_dict[file_name].func_list:\n",
    "        print(one_func.name,one_func.class_list)\n",
    "        # func_dict = one_func.gen_func_dict()\n",
    "        # for key in func_dict:\n",
    "        #     print(key,func_dict[key])"
   ]
  },
  {
   "cell_type": "code",
   "execution_count": null,
   "metadata": {},
   "outputs": [],
   "source": [
    "source_file = \"C:/Code/exiv2/src/iptc.cpp\""
   ]
  },
  {
   "cell_type": "code",
   "execution_count": null,
   "metadata": {},
   "outputs": [],
   "source": [
    "source_file = \"D:/work/selector-test/test/PDFGen-master/pdfgen.c\""
   ]
  },
  {
   "cell_type": "code",
   "execution_count": 2,
   "metadata": {},
   "outputs": [],
   "source": [
    "source_file = \"D:/code/test/测试/j40-main/j40.h\""
   ]
  },
  {
   "cell_type": "code",
   "execution_count": 3,
   "metadata": {},
   "outputs": [
    {
     "name": "stdout",
     "output_type": "stream",
     "text": [
      "[]\n",
      "j40_output_format:[]\n",
      "b'J40_API'\n",
      " function_definition -- b'J40_API j40_err j40_output_format(j40_image *image, int32_t channel, int32_t format) {\\n\\tstatic const j40__origin ORIGIN = J40__ORIGIN_output_format;\\n\\tj40__inner *inner;\\n\\n\\tJ40__CHECK_IMAGE();\\n\\n\\t// TODO implement multiple output formats\\n\\tif (channel != J40_RGBA) return J40__SET_INNER_ERR(\"Uch?\");\\n\\tif (format != J40_U8X4) return J40__SET_INNER_ERR(\"Ufm?\");\\n\\tif (!(channel == J40_RGBA && format == J40_U8X4)) return J40__SET_INNER_ERR(\"Uof?\");\\n\\n\\treturn 0;\\n}'\n",
      "\t type_identifier -- b'J40_API'\n",
      "\t ERROR -- b'j40_err'\n",
      "\t\t identifier -- b'j40_err'\n",
      "\t function_declarator -- b'j40_output_format(j40_image *image, int32_t channel, int32_t format)'\n",
      "\t\t identifier -- b'j40_output_format'\n",
      "\t\t parameter_list -- b'(j40_image *image, int32_t channel, int32_t format)'\n",
      "\t\t\t ( -- b'('\n",
      "\t\t\t parameter_declaration -- b'j40_image *image'\n",
      "\t\t\t\t type_identifier -- b'j40_image'\n",
      "\t\t\t\t pointer_declarator -- b'*image'\n",
      "\t\t\t\t\t * -- b'*'\n",
      "\t\t\t\t\t identifier -- b'image'\n",
      "\t\t\t , -- b','\n",
      "\t\t\t parameter_declaration -- b'int32_t channel'\n",
      "\t\t\t\t primitive_type -- b'int32_t'\n",
      "\t\t\t\t identifier -- b'channel'\n",
      "\t\t\t , -- b','\n",
      "\t\t\t parameter_declaration -- b'int32_t format'\n",
      "\t\t\t\t primitive_type -- b'int32_t'\n",
      "\t\t\t\t identifier -- b'format'\n",
      "\t\t\t ) -- b')'\n",
      "\t compound_statement -- b'{\\n\\tstatic const j40__origin ORIGIN = J40__ORIGIN_output_format;\\n\\tj40__inner *inner;\\n\\n\\tJ40__CHECK_IMAGE();\\n\\n\\t// TODO implement multiple output formats\\n\\tif (channel != J40_RGBA) return J40__SET_INNER_ERR(\"Uch?\");\\n\\tif (format != J40_U8X4) return J40__SET_INNER_ERR(\"Ufm?\");\\n\\tif (!(channel == J40_RGBA && format == J40_U8X4)) return J40__SET_INNER_ERR(\"Uof?\");\\n\\n\\treturn 0;\\n}'\n",
      "\t\t { -- b'{'\n",
      "\t\t declaration -- b'static const j40__origin ORIGIN = J40__ORIGIN_output_format;'\n",
      "\t\t\t storage_class_specifier -- b'static'\n",
      "\t\t\t\t static -- b'static'\n",
      "\t\t\t type_qualifier -- b'const'\n",
      "\t\t\t\t const -- b'const'\n",
      "\t\t\t type_identifier -- b'j40__origin'\n",
      "\t\t\t init_declarator -- b'ORIGIN = J40__ORIGIN_output_format'\n",
      "\t\t\t\t identifier -- b'ORIGIN'\n",
      "\t\t\t\t = -- b'='\n",
      "\t\t\t\t identifier -- b'J40__ORIGIN_output_format'\n",
      "\t\t\t ; -- b';'\n",
      "\t\t declaration -- b'j40__inner *inner;'\n",
      "\t\t\t type_identifier -- b'j40__inner'\n",
      "\t\t\t pointer_declarator -- b'*inner'\n",
      "\t\t\t\t * -- b'*'\n",
      "\t\t\t\t identifier -- b'inner'\n",
      "\t\t\t ; -- b';'\n",
      "\t\t expression_statement -- b'J40__CHECK_IMAGE();'\n",
      "\t\t\t call_expression -- b'J40__CHECK_IMAGE()'\n",
      "\t\t\t\t identifier -- b'J40__CHECK_IMAGE'\n",
      "\t\t\t\t argument_list -- b'()'\n",
      "\t\t\t\t\t ( -- b'('\n",
      "\t\t\t\t\t ) -- b')'\n",
      "\t\t\t ; -- b';'\n",
      "\t\t comment -- b'// TODO implement multiple output formats'\n",
      "\t\t if_statement -- b'if (channel != J40_RGBA) return J40__SET_INNER_ERR(\"Uch?\");'\n",
      "\t\t\t if -- b'if'\n",
      "\t\t\t parenthesized_expression -- b'(channel != J40_RGBA)'\n",
      "\t\t\t\t ( -- b'('\n",
      "\t\t\t\t binary_expression -- b'channel != J40_RGBA'\n",
      "\t\t\t\t\t identifier -- b'channel'\n",
      "\t\t\t\t\t != -- b'!='\n",
      "\t\t\t\t\t identifier -- b'J40_RGBA'\n",
      "\t\t\t\t ) -- b')'\n",
      "\t\t\t return_statement -- b'return J40__SET_INNER_ERR(\"Uch?\");'\n",
      "\t\t\t\t return -- b'return'\n",
      "\t\t\t\t call_expression -- b'J40__SET_INNER_ERR(\"Uch?\")'\n",
      "\t\t\t\t\t identifier -- b'J40__SET_INNER_ERR'\n",
      "\t\t\t\t\t argument_list -- b'(\"Uch?\")'\n",
      "\t\t\t\t\t\t ( -- b'('\n",
      "\t\t\t\t\t\t string_literal -- b'\"Uch?\"'\n",
      "\t\t\t\t\t\t\t \" -- b'\"'\n",
      "\t\t\t\t\t\t\t string_content -- b'Uch?'\n",
      "\t\t\t\t\t\t\t \" -- b'\"'\n",
      "\t\t\t\t\t\t ) -- b')'\n",
      "\t\t\t\t ; -- b';'\n",
      "\t\t if_statement -- b'if (format != J40_U8X4) return J40__SET_INNER_ERR(\"Ufm?\");'\n",
      "\t\t\t if -- b'if'\n",
      "\t\t\t parenthesized_expression -- b'(format != J40_U8X4)'\n",
      "\t\t\t\t ( -- b'('\n",
      "\t\t\t\t binary_expression -- b'format != J40_U8X4'\n",
      "\t\t\t\t\t identifier -- b'format'\n",
      "\t\t\t\t\t != -- b'!='\n",
      "\t\t\t\t\t identifier -- b'J40_U8X4'\n",
      "\t\t\t\t ) -- b')'\n",
      "\t\t\t return_statement -- b'return J40__SET_INNER_ERR(\"Ufm?\");'\n",
      "\t\t\t\t return -- b'return'\n",
      "\t\t\t\t call_expression -- b'J40__SET_INNER_ERR(\"Ufm?\")'\n",
      "\t\t\t\t\t identifier -- b'J40__SET_INNER_ERR'\n",
      "\t\t\t\t\t argument_list -- b'(\"Ufm?\")'\n",
      "\t\t\t\t\t\t ( -- b'('\n",
      "\t\t\t\t\t\t string_literal -- b'\"Ufm?\"'\n",
      "\t\t\t\t\t\t\t \" -- b'\"'\n",
      "\t\t\t\t\t\t\t string_content -- b'Ufm?'\n",
      "\t\t\t\t\t\t\t \" -- b'\"'\n",
      "\t\t\t\t\t\t ) -- b')'\n",
      "\t\t\t\t ; -- b';'\n",
      "\t\t if_statement -- b'if (!(channel == J40_RGBA && format == J40_U8X4)) return J40__SET_INNER_ERR(\"Uof?\");'\n",
      "\t\t\t if -- b'if'\n",
      "\t\t\t parenthesized_expression -- b'(!(channel == J40_RGBA && format == J40_U8X4))'\n",
      "\t\t\t\t ( -- b'('\n",
      "\t\t\t\t unary_expression -- b'!(channel == J40_RGBA && format == J40_U8X4)'\n",
      "\t\t\t\t\t ! -- b'!'\n",
      "\t\t\t\t\t parenthesized_expression -- b'(channel == J40_RGBA && format == J40_U8X4)'\n",
      "\t\t\t\t\t\t ( -- b'('\n",
      "\t\t\t\t\t\t binary_expression -- b'channel == J40_RGBA && format == J40_U8X4'\n",
      "\t\t\t\t\t\t\t binary_expression -- b'channel == J40_RGBA'\n",
      "\t\t\t\t\t\t\t\t identifier -- b'channel'\n",
      "\t\t\t\t\t\t\t\t == -- b'=='\n",
      "\t\t\t\t\t\t\t\t identifier -- b'J40_RGBA'\n",
      "\t\t\t\t\t\t\t && -- b'&&'\n",
      "\t\t\t\t\t\t\t binary_expression -- b'format == J40_U8X4'\n",
      "\t\t\t\t\t\t\t\t identifier -- b'format'\n",
      "\t\t\t\t\t\t\t\t == -- b'=='\n",
      "\t\t\t\t\t\t\t\t identifier -- b'J40_U8X4'\n",
      "\t\t\t\t\t\t ) -- b')'\n",
      "\t\t\t\t ) -- b')'\n",
      "\t\t\t return_statement -- b'return J40__SET_INNER_ERR(\"Uof?\");'\n",
      "\t\t\t\t return -- b'return'\n",
      "\t\t\t\t call_expression -- b'J40__SET_INNER_ERR(\"Uof?\")'\n",
      "\t\t\t\t\t identifier -- b'J40__SET_INNER_ERR'\n",
      "\t\t\t\t\t argument_list -- b'(\"Uof?\")'\n",
      "\t\t\t\t\t\t ( -- b'('\n",
      "\t\t\t\t\t\t string_literal -- b'\"Uof?\"'\n",
      "\t\t\t\t\t\t\t \" -- b'\"'\n",
      "\t\t\t\t\t\t\t string_content -- b'Uof?'\n",
      "\t\t\t\t\t\t\t \" -- b'\"'\n",
      "\t\t\t\t\t\t ) -- b')'\n",
      "\t\t\t\t ; -- b';'\n",
      "\t\t return_statement -- b'return 0;'\n",
      "\t\t\t return -- b'return'\n",
      "\t\t\t number_literal -- b'0'\n",
      "\t\t\t ; -- b';'\n",
      "\t\t } -- b'}'\n"
     ]
    }
   ],
   "source": [
    "from Analysis import *\n",
    "test_c = NormalFile(source_file,'c')\n",
    "# show_all_node(test_c.root_node)\n",
    "test_c.initialize()\n",
    "test_c.is_get_all_functions_ran = False\n",
    "test_c.get_all_functions()\n",
    "for node in test_c.ele_list:\n",
    "    if node.type == \"function_definition\":\n",
    "        if b\"j40_output_format\" in node.text:\n",
    "            one_func = func(node)\n",
    "            return_type = function_definition_get_return_type(node)\n",
    "            print(return_type)\n",
    "            print(one_func)\n",
    "            print(one_func.return_parm.name)\n",
    "            show_all_node(one_func.node)\n",
    "\n"
   ]
  },
  {
   "cell_type": "code",
   "execution_count": null,
   "metadata": {},
   "outputs": [],
   "source": [
    "from APIWarp import *"
   ]
  },
  {
   "cell_type": "code",
   "execution_count": null,
   "metadata": {},
   "outputs": [],
   "source": [
    "readme_path = \"C:/Code/exiv2/README.md\"\n",
    "with open(readme_path,'r') as f:\n",
    "    content = f.read()\n",
    "\n",
    "question = {}\n",
    "question['Instruction'] = \"根据下面的Readme的一部分，用一句话概括该工程实现的核心功能，只需要介绍实现的功能即可，其他的不需要提及\"\n",
    "question['Input'] = content[:5000]\n",
    "myprompt = Prompt(\"mistral\")\n",
    "prompt_str = myprompt.gen_prompt(question)\n",
    "api = llamacpp(host=\"10.17.188.201\",port=7070)\n",
    "readme_summary = api.run(prompt_str)\n",
    "print(readme_summary)\n"
   ]
  },
  {
   "cell_type": "code",
   "execution_count": null,
   "metadata": {},
   "outputs": [],
   "source": [
    "print(len(readme_summary))"
   ]
  },
  {
   "cell_type": "code",
   "execution_count": null,
   "metadata": {},
   "outputs": [],
   "source": [
    "import os\n",
    "from Data import *"
   ]
  },
  {
   "cell_type": "code",
   "execution_count": null,
   "metadata": {},
   "outputs": [],
   "source": [
    "project_dir = \"C:/Code/exiv2/\"\n",
    "test_project = CXXProject(project_dir)\n",
    "test_project.process()"
   ]
  },
  {
   "cell_type": "code",
   "execution_count": null,
   "metadata": {},
   "outputs": [],
   "source": [
    "question['Instruction'] = f\"下面的类来自于一个工程，工程描述如下\\n{readme_summary}\\n,请判断下面的类是否会用来处理用户输入\"\n",
    "api = llamacpp(host=\"10.17.188.201\",port=7070)\n",
    "for class_name in test_project.all_class_dict:\n",
    "    one_class = test_project.all_class_dict[class_name]\n",
    "    class_dict = one_class.gen_dict()\n",
    "    question['Input'] = class_dict['body']\n",
    "    prompt_str = myprompt.gen_prompt(question)\n",
    "    result = api.run(prompt_str)\n",
    "    print(class_dict['name'])\n",
    "    print(result)"
   ]
  },
  {
   "cell_type": "code",
   "execution_count": null,
   "metadata": {},
   "outputs": [],
   "source": [
    "for class_name in test_project.all_class_dict:\n",
    "    class_dict = test_project.all_class_dict[class_name].gen_dict()\n",
    "    print(class_dict)\n",
    "    "
   ]
  },
  {
   "cell_type": "code",
   "execution_count": null,
   "metadata": {},
   "outputs": [],
   "source": [
    "import networkx as nx\n",
    "G = nx.DiGraph()\n",
    "def find_func_by_caller(all_funcs,one_call):\n",
    "    for one_func in all_funcs:\n",
    "        if one_call.func_name == one_func.name:\n",
    "            if not one_func.class_list and not one_call.name_space_list:\n",
    "                return one_func\n",
    "            else:\n",
    "                if not one_func.class_list or not one_call.name_space_list:\n",
    "                    return None\n",
    "                else:\n",
    "                    if one_func.class_list[-1] == one_call.name_space_list[-1]:\n",
    "                        return one_func\n",
    "    return None\n",
    "for one_func in  test_project.all_funcs:\n",
    "    if one_func.name in {b\"main\"}:\n",
    "        continue\n",
    "    # print(one_func.name,one_func.class_list)\n",
    "    if one_func.call_list:\n",
    "        for one_call in one_func.call_list:\n",
    "            tmp_func = find_func_by_caller(test_project.all_funcs,one_call)\n",
    "            if tmp_func:\n",
    "                # print(one_func.name,one_func.class_list,tmp_func.name,tmp_func.class_list)\n",
    "                G.add_edge(one_func,tmp_func)"
   ]
  },
  {
   "cell_type": "code",
   "execution_count": null,
   "metadata": {},
   "outputs": [],
   "source": [
    "count= 0\n",
    "for one_func in test_project.all_funcs:\n",
    "    if one_func not in G.nodes():\n",
    "        print(one_func.name)\n",
    "        # print(bytearray2str(one_func.body))\n",
    "        count += 1\n",
    "print(count,len(test_project.all_funcs))"
   ]
  },
  {
   "cell_type": "code",
   "execution_count": null,
   "metadata": {},
   "outputs": [],
   "source": [
    "weakly_connected_subgraphs = list(nx.weakly_connected_components(G))\n",
    "print(f\"互不相通的子图数量: {len(weakly_connected_subgraphs)}\")\n",
    "for subgraph in weakly_connected_subgraphs:\n",
    "    print(f\"子图函数数量: {len(subgraph)}\")\n",
    "    for node in subgraph:\n",
    "        print(f\"子图节点: {node.name} {node.class_list}\")\n",
    "    print(\"=\"*30)\n"
   ]
  },
  {
   "cell_type": "code",
   "execution_count": null,
   "metadata": {},
   "outputs": [],
   "source": [
    "print(\"最高层级代码为：\")\n",
    "for n in G.nodes():\n",
    "    ancestors = nx.ancestors(G, n)\n",
    "    if len(ancestors) == 0:\n",
    "        if len(list(G.successors(n))) > 0:\n",
    "            print(f\"{n.name} {n.class_list} {len(list(G.successors(n)))}\")"
   ]
  },
  {
   "cell_type": "code",
   "execution_count": null,
   "metadata": {},
   "outputs": [],
   "source": [
    "for  n in G.nodes():\n",
    "     if len(list(G.successors(n))) == 0:\n",
    "        print(f\"{n.name} {n.class_list}\")\n",
    "        print(bytearray2str(n.body))\n",
    "        print('\\n\\n')"
   ]
  },
  {
   "cell_type": "code",
   "execution_count": null,
   "metadata": {},
   "outputs": [],
   "source": [
    "for one_func in test_project.all_funcs:\n",
    "    if one_func.name == b\"pdf_create\":\n",
    "        print(f\"func find {one_func}\")\n",
    "for n in G.nodes():\n",
    "    if n.name == b\"pdf_create\":\n",
    "        print(f\"find {n}\")\n",
    "        ancestors = nx.ancestors(G, n)\n",
    "        for nn in ancestors:\n",
    "            print(nn)"
   ]
  }
 ],
 "metadata": {
  "kernelspec": {
   "display_name": "Python 3 (ipykernel)",
   "language": "python",
   "name": "python3"
  },
  "language_info": {
   "codemirror_mode": {
    "name": "ipython",
    "version": 3
   },
   "file_extension": ".py",
   "mimetype": "text/x-python",
   "name": "python",
   "nbconvert_exporter": "python",
   "pygments_lexer": "ipython3",
   "version": "3.12.2"
  }
 },
 "nbformat": 4,
 "nbformat_minor": 4
}
